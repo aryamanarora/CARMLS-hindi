{
 "cells": [
  {
   "cell_type": "code",
   "execution_count": 1,
   "metadata": {},
   "outputs": [],
   "source": [
    "from transformers import BertTokenizer, BertModel\n",
    "import torch\n",
    "\n",
    "tokenizer = BertTokenizer.from_pretrained('bert-base-multilingual-cased')\n",
    "model = BertModel.from_pretrained(\"bert-base-multilingual-cased\")"
   ]
  },
  {
   "cell_type": "code",
   "execution_count": 95,
   "metadata": {},
   "outputs": [
    {
     "name": "stdout",
     "output_type": "stream",
     "text": [
      "वह मेरा भांजा है।\n",
      "He is my nephew.\n",
      "वह He\n",
      "मे my\n",
      "भ nephew\n",
      "है is\n",
      "। .\n"
     ]
    }
   ],
   "source": [
    "text = 'वह मेरा भांजा है।'\n",
    "text2 = 'He is my nephew.'\n",
    "\n",
    "def align(text, text2):\n",
    "    tokens = tokenizer(text, return_tensors='pt')\n",
    "    tokens2 = tokenizer(text2, return_tensors='pt')\n",
    "    left = model(**tokens)[0][0][1:-1]\n",
    "    right = model(**tokens2)[0][0][1:-1]\n",
    "\n",
    "    cos = torch.nn.CosineSimilarity(dim=0, eps=1e-6)\n",
    "    S = [[0 for i in range(len(right))] for j in range(len(left))]\n",
    "    A, M = [[0 for i in range(len(right))] for j in range(len(left))], [[0 for i in range(len(right))] for j in range(len(left))]\n",
    "    for pos_i, i in enumerate(left):\n",
    "        for pos_j, j in enumerate(right):\n",
    "            S[pos_i][pos_j] = float(cos(i, j))\n",
    "            \n",
    "    for _ in range(3):\n",
    "        for i in range(len(left)):\n",
    "            for j in range(len(right)):\n",
    "                if max(sum([x[j] for x in A]), sum(A[i])) == 0:\n",
    "                    M[i][j] = 1\n",
    "                elif min(sum([x[j] for x in A]), sum(A[i])) > 0:\n",
    "                    M[i][j] = 0\n",
    "                else:\n",
    "                    M[i][j] = 0.5\n",
    "        \n",
    "        maxes_i = [[0, -1]] * len(left)\n",
    "        maxes_j = [[0, -1]] * len(right)\n",
    "        for i in range(len(left)):\n",
    "            for j in range(len(right)):\n",
    "                val = S[i][j] * M[i][j]\n",
    "                if val > maxes_i[i][0]: maxes_i[i] = [val, j]\n",
    "                if val > maxes_j[j][0]: maxes_j[j] = [val, i]\n",
    "        \n",
    "        for i in range(len(left)):\n",
    "            if maxes_j[maxes_i[i][1]][1] == i:\n",
    "                A[i][maxes_i[i][1]] += 1\n",
    "    \n",
    "    print(text)\n",
    "    print(text2)\n",
    "    for pos_i, i in enumerate(A):\n",
    "        for pos_j, j in enumerate(i):\n",
    "            if j == 1:\n",
    "                print(tokenizer.decode(tokens.input_ids[0][pos_i + 1:pos_i + 2]), tokenizer.decode(tokens2.input_ids[0][pos_j + 1:pos_j + 2]))\n",
    "\n",
    "align(text, text2)"
   ]
  },
  {
   "cell_type": "code",
   "execution_count": 183,
   "metadata": {},
   "outputs": [],
   "source": [
    "def conv(x):\n",
    "    x = x.lower()\n",
    "    m = {\n",
    "        'a': 'o', 'i': 'u', 'ī': 'ū', 'u': 'e', 'ā': 'ɔ', 'ɔ': 'a', 'o': 'i', 'e': 'ā',\n",
    "        'k': 'b', 'g': 'p', 'ṅ': 'm',\n",
    "        'c': 'j', 'j': 'c', 'ñ': 'ñ',\n",
    "        't': 'ṭ', 'd': 'ḍ', 'n': 'ṇ',\n",
    "        'p': 'k', 'b': 'g', 'm': 'ṅ',\n",
    "        'ṭ': 't', 'ḍ': 'd', 'ṇ': 'n',\n",
    "        'h': 'h',\n",
    "        'r': 'l', 'l': 'r', 'ṛ': 'ḷ',\n",
    "        '̤': '̤',\n",
    "        's': 'ś', 'ś': 's',\n",
    "        'v': 'z', 'z': 'v',\n",
    "        'f': 'f',\n",
    "        'y': 'w',\n",
    "        'w': 'y',\n",
    "        '\\t': '\\t',\n",
    "        'ʰ': 'ʰ',\n",
    "        ' ': ' '\n",
    "    }\n",
    "    return ''.join([m[y] if y in m else y for y in x])\n",
    "\n"
   ]
  },
  {
   "cell_type": "code",
   "execution_count": 184,
   "metadata": {},
   "outputs": [
    {
     "name": "stdout",
     "output_type": "stream",
     "text": [
      "selbue ṇurefol bā povvu pāṇozaṇ\n"
     ]
    }
   ],
   "source": [
    "print(conv(\"\"\"śurkiu Nilufar ke gazzi genavɔn\"\"\"))"
   ]
  },
  {
   "cell_type": "code",
   "execution_count": null,
   "metadata": {},
   "outputs": [],
   "source": []
  },
  {
   "cell_type": "code",
   "execution_count": null,
   "metadata": {},
   "outputs": [],
   "source": []
  }
 ],
 "metadata": {
  "kernelspec": {
   "display_name": "Python 3",
   "language": "python",
   "name": "python3"
  },
  "language_info": {
   "codemirror_mode": {
    "name": "ipython",
    "version": 3
   },
   "file_extension": ".py",
   "mimetype": "text/x-python",
   "name": "python",
   "nbconvert_exporter": "python",
   "pygments_lexer": "ipython3",
   "version": "3.7.7"
  }
 },
 "nbformat": 4,
 "nbformat_minor": 4
}
