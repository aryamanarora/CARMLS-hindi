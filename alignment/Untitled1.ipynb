{
 "cells": [
  {
   "cell_type": "code",
   "execution_count": 2,
   "metadata": {},
   "outputs": [
    {
     "name": "stderr",
     "output_type": "stream",
     "text": [
      "2021-02-12 13:23:28,261 - simalign.simalign - INFO - Initialized the EmbeddingLoader with model: bert-base-multilingual-cased\n"
     ]
    }
   ],
   "source": [
    "import csv\n",
    "import simalign\n",
    "\n",
    "model = simalign.SentenceAligner()"
   ]
  },
  {
   "cell_type": "code",
   "execution_count": null,
   "metadata": {},
   "outputs": [
    {
     "name": "stdout",
     "output_type": "stream",
     "text": [
      "['Token', 'Chapter', '2', '.', 'So', 'I', 'lived', 'my', 'life', 'alone', ',', 'without', 'anyone', 'that', 'I', 'could', 'really', 'talk', 'to', ',', 'until', 'I', 'had', 'an', 'accident', 'with', 'my', 'plane', 'in', 'the', 'Desert', 'of', 'Sahara', ',', 'six', 'years', 'ago', '.', 'Something', 'was', 'broken', 'in', 'my', 'engine', '.', 'And', 'as', 'I', 'had', 'with', 'me', 'neither', 'a', 'mechanic', 'nor', 'any', 'passengers', ',', 'I', 'set', 'myself', 'to', 'attempt', 'the', 'difficult', 'repairs', 'all', 'alone', '.', 'It', 'was', 'a', 'question', 'of', 'life', 'or', 'death', 'for', 'me', ':', 'I', 'had', 'scarcely', 'enough', 'drinking', 'water', 'to', 'last', 'a', 'week', '.', 'The', 'first', 'night', ',', 'then', ',', 'I', 'went', 'to', 'sleep', 'on', 'the', 'sand', ',', 'a', 'thousand', 'miles', 'from', 'any', 'human', 'habitation', '.', 'I', 'was', 'more', 'isolated', 'than', 'a', 'shipwrecked', 'sailor', 'on', 'a', 'raft', 'in', 'the', 'middle', 'of', 'the', 'ocean', '.', 'Thus', 'you', 'can', 'imagine', 'my', 'amazement', ',', 'at', 'sunrise', ',', 'when', 'I', 'was', 'awakened', 'by', 'an', 'odd', 'little', 'voice', '.', 'It', 'said', ':', '\"', 'If', 'you', 'please', '--', 'draw', 'me', 'a', 'sheep', '!', '\"', '\"', 'What', '!', '\"', '\"', 'Draw', 'me', 'a', 'sheep', '!', '\"', 'I', 'jumped', 'to', 'my', 'feet', ',', 'completely', 'thunderstruck', '.', 'I', 'blinked', 'my', 'eyes', 'hard', '.', 'I', 'looked', 'carefully', 'all', 'around', 'me', '.', 'And', 'I', 'saw', 'a', 'most', 'extraordinary', 'small', 'person', ',', 'who', 'stood', 'there', 'examining', 'me', 'with', 'great', 'seriousness', '.', 'Here', 'you', 'may', 'see', 'the', 'best', 'portrait', 'that', ',', 'later', ',', 'I', 'was', 'able', 'to', 'make', 'of', 'him', '.', 'But', 'my', 'drawing', 'is', 'certainly', 'very', 'much', 'less', 'charming', 'than', 'its', 'model', '.', 'That', ',', 'however', ',', 'is', 'not', 'my', 'fault', '.', 'The', 'grown', '-', 'ups', 'discouraged', 'me', 'in', 'my', 'painter', \"'s\", 'career', 'when', 'I', 'was', 'six', 'years', 'old', ',', 'and', 'I', 'never', 'learned', 'to', 'draw', 'anything', ',', 'except', 'boas', 'from', 'the', 'outside', 'and', 'boas', 'from', 'the', 'inside', '.', 'Now', 'I', 'stared', 'at', 'this', 'sudden', 'apparition', 'with', 'my', 'eyes', 'fairly', 'starting', 'out', 'of', 'my', 'head', 'in', 'astonishment', '.', 'Remember', ',', 'I', 'had', 'crashed', 'in', 'the', 'desert', 'a', 'thousand', 'miles', 'from', 'any', 'inhabited', 'region', '.', 'And', 'yet', 'my', 'little', 'man', 'seemed', 'neither', 'to', 'be', 'straying', 'uncertainly', 'among', 'the', 'sands', ',', 'nor', 'to', 'be', 'fainting', 'from', 'fatigue', 'or', 'hunger', 'or', 'thirst', 'or', 'fear', '.', 'Nothing', 'about', 'him', 'gave', 'any', 'suggestion', 'of', 'a', 'child', 'lost', 'in', 'the', 'middle', 'of', 'the', 'desert', ',', 'a', 'thousand', 'miles', 'from', 'any', 'human', 'habitation', '.', 'When', 'at', 'last', 'I', 'was', 'able', 'to', 'speak', ',', 'I', 'said', 'to', 'him', ':', '\"', 'But', '--', 'what', 'are', 'you', 'doing', 'here', '?', '\"', 'And', 'in', 'answer', 'he', 'repeated', ',', 'very', 'slowly', ',', 'as', 'if', 'he', 'were', 'speaking', 'of', 'a', 'matter', 'of', 'great', 'consequence', ':', '\"', 'If', 'you', 'please', '--', 'draw', 'me', 'a', 'sheep', '...', '\"', 'When', 'a', 'mystery', 'is', 'too', 'overpowering', ',', 'one', 'dare', 'not', 'disobey', '.', 'Absurd', 'as', 'it', 'might', 'seem', 'to', 'me', ',', 'a', 'thousand', 'miles', 'from', 'any', 'human', 'habitation', 'and', 'in', 'danger', 'of', 'death', ',', 'I', 'took', 'out', 'of', 'my', 'pocket', 'a', 'sheet', 'of', 'paper', 'and', 'my', 'fountain', '-', 'pen', '.', 'But', 'then', 'I', 'remembered', 'how', 'my', 'studies', 'had', 'been', 'concentrated', 'on', 'geography', ',', 'history', ',', 'arithmetic', ',', 'and', 'grammar', ',', 'and', 'I', 'told', 'the', 'little', 'chap', '(', 'a', 'little', 'crossly', ',', 'too', ')', 'that', 'I', 'did', 'not', 'know', 'how', 'to', 'draw', '.', 'He', 'answered', 'me', ':', '\"', 'That', 'does', \"n't\", 'matter', '.', 'Draw', 'me', 'a', 'sheep', '...', '\"', 'But', 'I', 'had', 'never', 'drawn', 'a', 'sheep', '.', 'So', 'I', 'drew', 'for', 'him', 'one', 'of', 'the', 'two', 'pictures', 'I', 'had', 'drawn', 'so', 'often', '.', 'It', 'was', 'that', 'of', 'the', 'boa', 'constrictor', 'from', 'the', 'outside', '.', 'And', 'I', 'was', 'astounded', 'to', 'hear', 'the', 'little', 'fellow', 'greet', 'it', 'with', ',', '\"', 'No', ',', 'no', ',', 'no', '!', 'I', 'do', 'not', 'want', 'an', 'elephant', 'inside', 'a', 'boa', 'constrictor', '.', 'A', 'boa', 'constrictor', 'is', 'a', 'very', 'dangerous', 'creature', ',', 'and', 'an', 'elephant', 'is', 'very', 'cumbersome', '.', 'Where', 'I', 'live', ',', 'everything', 'is', 'very', 'small', '.', 'What', 'I', 'need', 'is', 'a', 'sheep', '.', 'Draw', 'me', 'a', 'sheep', '.', '\"', 'So', 'then', 'I', 'made', 'a', 'drawing', '.', 'He', 'looked', 'at', 'it', 'carefully', ',', 'then', 'he', 'said', ':', '\"', 'No', '.', 'This', 'sheep', 'is', 'already', 'very', 'sickly', '.', 'Make', 'me', 'another', '.', '\"', 'So', 'I', 'made', 'another', 'drawing', '.', 'My', 'friend', 'smiled', 'gently', 'and', 'indulgently', '.', '\"', 'You', 'see', 'yourself', ',', '\"', 'he', 'said', ',', '\"', 'that', 'this', 'is', 'not', 'a', 'sheep', '.', 'This', 'is', 'a', 'ram', '.', 'It', 'has', 'horns', '.', '\"', 'So', 'then', 'I', 'did', 'my', 'drawing', 'over', 'once', 'more', '.', 'But', 'it', 'was', 'rejected', 'too', ',', 'just', 'like', 'the', 'others', '.', '\"', 'This', 'one', 'is', 'too', 'old', '.', 'I', 'want', 'a', 'sheep', 'that', 'will', 'live', 'a', 'long', 'time', '.', '\"', 'By', 'this', 'time', 'my', 'patience', 'was', 'exhausted', ',', 'because', 'I', 'was', 'in', 'a', 'hurry', 'to', 'start', 'taking', 'my', 'engine', 'apart', '.', 'So', 'I', 'tossed', 'off', 'this', 'drawing', '.', 'And', 'I', 'threw', 'out', 'an', 'explanation', 'with', 'it', '.', '\"', 'This', 'is', 'only', 'his', 'box', '.', 'The', 'sheep', 'you', 'asked', 'for', 'is', 'inside', '.', '\"', 'I', 'was', 'very', 'surprised', 'to', 'see', 'a', 'light', 'break', 'over', 'the', 'face', 'of', 'my', 'young', 'judge', ':', '\"', 'That', 'is', 'exactly', 'the', 'way', 'I', 'wanted', 'it', '!', 'Do', 'you', 'think', 'that', 'this', 'sheep', 'will', 'have', 'to', 'have', 'a', 'great', 'deal', 'of', 'grass', '?', '\"', '\"', 'Why', '?', '\"', '\"', 'Because', 'where', 'I', 'live', 'everything', 'is', 'very', 'small', '...', '\"', '\"', 'There', 'will', 'surely', 'be', 'enough', 'grass', 'for', 'him', ',', '\"', 'I', 'said', '.', '\"', 'It', 'is', 'a', 'very', 'small', 'sheep', 'that', 'I', 'have', 'given', 'you', '.', '\"', 'He', 'bent', 'his', 'head', 'over', 'the', 'drawing', ':', '\"', 'Not', 'so', 'small', 'that', '--', 'Look', '!', 'He', 'has', 'gone', 'to', 'sleep', '...', '\"', 'And', 'that', 'is', 'how', 'I', 'made', 'the', 'acquaintance', 'of', 'the', 'little', 'prince', '.']\n",
      "['छः', 'साल', 'पहले', 'तक', 'बिना', 'किसी', 'से', 'मन', 'की', 'बात', 'किए', ',', 'एकाकी', 'सा', ',', 'जीता', 'रहा', '।', 'एक', 'दिन', 'सहारा', 'के', 'रेगिस्तान', 'में', 'मेरा', 'जहाज', 'बिगड़', 'गया', 'और', 'मुझे', 'उतरना', 'पड़ा।', 'न', 'तो', 'मेरे', 'साथ', 'कोई', 'मिस्त्री', 'था', 'न', 'यात्री।', 'झख', 'मार', 'कर', 'अकेले', 'ही', 'उसे', 'ठीक', 'करने', 'की', 'बात', 'सोची', '।', 'मेरे', 'लिए', 'जीवन-मृत्यु', 'का', 'प्रश्न', 'था', '।', 'मेरे', 'पास', 'मुश्किल', 'से', 'आठ', 'दिनों', 'के', 'लिए', 'पीने', 'का', 'पानी', 'था', '।', 'पहली', 'शाम', ',', 'बस्ती', 'से', 'हजारों', 'मील', 'दूर', ',', 'रेत', 'पर', 'लेटा', ',', 'लग', 'रहा', 'था', 'सागर', 'में', 'जहाज', 'से', 'टूटा', 'हुआ', 'बहता', 'हुआ', 'एक', 'तख्ता', 'हूं', '।', 'कल्पना', 'कीजिए', 'कि', 'ऐसे', 'में', 'मुझे', 'कितना', 'आश्चर्य', 'हुआ', 'होगा', 'जब', 'तड़के', 'एक', 'अजीब', 'सी', 'कच्ची', 'सी', 'आवाज', 'ने', 'मुझे', 'जगाया', '।', 'सुनिए', '!', 'मेरे', 'लिए', 'एक', 'भेड़', 'की', 'तस्वीर', 'बना', 'दीजिए', '।', 'एक', 'भेड़', 'का', 'चित्र', '...', 'मैं', 'तो', 'उछल', 'पड़ा', 'जैसे', 'पतीले', 'पर', 'पैर', 'पड़', 'गया', 'हो', '।', 'आंख', 'मली', 'और', 'ठीक', 'से', 'देखा।', 'एक', 'विचित्र', 'और', 'छोटा', 'सा', 'लड़का', 'मुझे', 'चुपचाप', 'निहार', 'रहा', 'था', '।', 'बाद', 'में', 'मैंने', 'याद', 'करके', 'उसकी', 'जो', 'सबसे', 'अच्छी', 'तस्वीर', 'बनाई', 'वह', 'यह', 'रही', '।', 'वह', 'इस', 'तस्वीर', 'से', 'कहीं', 'अधिक', 'आकर्षक', 'था', '।', 'तस्वीर', 'उसकी', 'जैसी', 'नहीं', 'बनी', 'तो', 'मेरा', 'क्या', 'दोष।', 'बचपन', 'में', 'ही', 'बुजुर्गों', 'ने', 'हतोत्साहित', 'जो', 'कर', 'दिया', 'था', '।', 'तब', 'से', 'मैं', 'अजगर', 'के', 'अलावा', 'कुछ', 'भी', 'बनाना', 'नहीं', 'सीख', 'पाया', '।', 'अचंभे', 'में', 'पड़ा', 'मैं', 'इस', 'छाया', 'सी', 'आकृति', 'को', 'खुली-खुली', 'आंखों', 'से', 'देखता', 'रहा', '।', 'भूलिऐ', 'मत', 'कि', 'मैं', 'बस्ती', 'से', 'हजारों', 'मील', 'दूर', 'था', 'और', 'यह', 'लड़का', 'न', 'तो', 'भटका', 'हुआ', 'लगता', 'था', 'न', 'भूखा', ',', 'प्यासा', 'या', 'डरा', 'हुआ', '।', 'जरा', 'भी', 'नहीं', 'लगता', 'था', 'कि', 'वह', 'किसी', 'निर्जन', 'में', 'खो', 'गया', 'है', '।', 'आखिर', 'जब', 'बोली', 'निकली', 'तो', 'मैंने', 'कहा', 'पर...', 'पर', 'तू', 'यहां', 'क्या', 'कर', 'रहा', 'है', '?', 'और', 'धीरे', 'से', 'जैसे', 'एक', 'भारी', 'बात', 'कहनी', 'हो', ',', 'उसने', 'दोहराया', ',', 'मेरे', 'लिए', 'एक', 'भेड़', 'का', 'चित्र', 'बना', 'दीजिए', '।', 'सब', 'कुछ', 'अजीब', 'और', 'रहस्यमय', 'लग', 'रहा', 'था', '।', 'बात', 'टालने', 'का', 'साहस', 'नहीं', 'हुआ', '।', 'निर्जन', 'स्थान', 'में', 'जबकि', 'सर', 'पर', 'मौत', 'मंडरा', 'रही', 'हो', 'यह', 'चित्र', 'बनाने', 'की', 'बात', 'हास्यास्पद', 'लगी', ',', 'फिर', 'भी', 'मैंने', 'जेब', 'से', 'कागज', 'और', 'कलम', 'निकाल', 'लिया', '।', 'लेकिन', 'मैंने', 'तो', 'विशेषकर', 'इतिहास', ',', 'भूगोल', 'और', 'व्याकरण', 'पढ़ी', 'थी', '।', 'मैंने', 'थोड़ा', 'झुंझला', 'कर', 'कहा', 'कि', ',', 'मुझे', 'चित्र', 'बनाने', 'नहीं', 'आते', '।', 'कोई', 'बात', 'नहीं', 'भेड़', 'बनाओ', 'न!', 'उसने', 'जवाब', 'दिया', '।', 'मुझे', 'भेड़', 'बनाना', 'नहीं', 'आता', 'था', '।', 'मैंने', 'वही', 'चित्र', 'बनाया', 'जो', 'आता', 'था', '।', 'मैं', 'स्तब्ध', 'रह', 'गया', 'जब', 'वह', 'बोला', ':', 'नहीं', ',', 'नहीं', '।', 'मुझे', 'अजगर', 'के', 'पेट', 'में', 'बंद', 'हाथी', 'नहीं', 'चाहिए', '।', 'अजगर', 'खौफनाक', 'होता', 'है', 'और', 'हाथी', 'बड़ा', 'ही', 'भारी', 'भरकम।', 'मेरे', 'घर', 'तो', 'सब', 'कुछ', 'छोटा-छोटा', 'सा', 'है', '।', 'मुझे', 'भेड़', 'ही', 'चाहिए', '।', 'आखिर', 'मैंने', 'बनाया', '।', 'उसने', 'ठीक', 'से', 'देखा', 'और', 'बोला', 'यह', 'तो', 'अभी', 'से', 'बीमार', 'है', ',', 'दूसरी', 'बनाओ।', 'फिर', 'मैंने', 'बनाया', '।', 'मेरे', 'दोस्त', 'के', 'होठों', 'पर', 'एक', 'हल्की', 'सी', 'सहानभूतिपूर्ण', 'हंसी', 'खेल', 'गई', '।', 'देखो', 'न।', '...', 'यह', 'भेड़', 'थोड़े', 'ही', 'है', '।', 'यह', 'तो', 'भेड़ा', 'है', '!', 'इसके', 'तो', 'सींग', 'हैं', '।', 'मैंने', 'फिर', 'बनाया', '।', 'उसने', 'फिर', 'नहीं', 'स्वीकारा', '।', 'यह', 'तो', 'बूढ़ा', 'है', '।', 'बहुत', 'दिन', 'जियेगा', 'थोड़े', '!', 'मुझे', 'अपने', 'जहाज', 'की', 'मोटर', 'ठीक', 'करनी', 'थी', '।', 'धीरज', 'टूट', 'गया', '।', 'मैंने', 'घसीट', 'कर', 'यह', 'चित्र', 'बनाया।', 'और', 'झिड़कता', 'हुआ', 'बोला', 'यह', 'रहा', 'बक्सा', ',', 'तुम्हारी', 'भेड़', 'इसी', 'के', 'अंदर', 'है', '।', 'लेकिन', 'मुझे', 'थोड़ा', 'अचरज', 'हुआ', 'अपने', 'इस', 'नन्हें', 'से', 'जज', 'के', 'मुंह', 'पर', 'एक', 'चमक', 'देखकर।', 'मुझे', 'बिल्कुल', 'ऐसा', 'ही', 'चाहिए', 'था', '।', 'इसके', 'लिए', 'बहुत', 'सी', 'घास', 'चाहिए', 'क्या', '?', 'क्यों', '?', 'क्योंकि', 'मेरा', 'घर', 'बहुत', 'छोटा', 'है', '।', 'उतना', 'बहुत', 'है', '।', 'मैंने', 'तुम्हें', 'एक', 'छोटी', 'सी', 'भेड़', 'दी', 'है', '।', 'उसने', 'चित्र', 'पर', 'सिर', 'झुकाया', '।', 'इतनी', 'छोटी', 'थोड़ी', 'ही', 'है', '...', 'देखो?', 'सो', 'रही', 'है', '।', 'और', 'यह', 'थी', 'मेरी', 'पहली', 'मुलाकात', 'उस', 'नन्हें', 'राजकुमार', 'से', '।']\n"
     ]
    }
   ],
   "source": [
    "with open('../annotations/lp_adjudicated_en/2.csv', 'r') as en, open('../annotations/lp_adjudicated/2.csv', 'r') as hi:\n",
    "    reader_en = csv.reader(en)\n",
    "    reader_hi = csv.reader(hi)\n",
    "    en_data, hi_data = [], []\n",
    "    sent = []\n",
    "    for i, row in enumerate(reader_en):\n",
    "        if row[1] == \"\":\n",
    "            pass\n",
    "        else:\n",
    "            sent.append(row)\n",
    "    if sent != []: en_data.append(sent)\n",
    "    sent = []\n",
    "        \n",
    "    for i, row in enumerate(reader_hi):\n",
    "        if row[0] == \"\":\n",
    "            pass\n",
    "        else:\n",
    "            sent.append(row)\n",
    "    if sent != []: hi_data.append(sent)\n",
    "        \n",
    "    print([x[1] for x in en_data[0]])\n",
    "    print([x[0] for x in hi_data[0]])\n",
    "    for i, j in model.get_word_aligns([x[1] for x in en_data[0]], [x[0] for x in hi_data[0]])['mwmf']:\n",
    "        print(en_data[0][i][1], hi_data[0][j][0])"
   ]
  },
  {
   "cell_type": "code",
   "execution_count": null,
   "metadata": {},
   "outputs": [],
   "source": []
  }
 ],
 "metadata": {
  "kernelspec": {
   "display_name": "Python 3",
   "language": "python",
   "name": "python3"
  },
  "language_info": {
   "codemirror_mode": {
    "name": "ipython",
    "version": 3
   },
   "file_extension": ".py",
   "mimetype": "text/x-python",
   "name": "python",
   "nbconvert_exporter": "python",
   "pygments_lexer": "ipython3",
   "version": "3.7.7"
  }
 },
 "nbformat": 4,
 "nbformat_minor": 4
}
