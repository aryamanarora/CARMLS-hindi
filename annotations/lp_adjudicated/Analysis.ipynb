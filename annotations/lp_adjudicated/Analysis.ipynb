{
 "cells": [
  {
   "cell_type": "code",
   "execution_count": 38,
   "id": "bigger-physics",
   "metadata": {},
   "outputs": [
    {
     "name": "stdout",
     "output_type": "stream",
     "text": [
      "[[['experiencer', 'agent'], ['experiencer', 'agent'], ['experiencer', 'agent']], [['theme', 'theme'], ['theme', 'theme'], ['gestalt', 'gestalt']], [['gestalt', 'gestalt'], ['gestalt', 'gestalt'], ['gestalt', 'gestalt']], [['endtime', 'interval'], ['duration', 'endtime'], ['duration', 'duration']], [['possessor', 'locus'], ['possessor', 'possessor'], ['possessor', 'locus']], [['purpose', 'purpose'], ['purpose', 'purpose'], ['purpose', 'purpose']], [['gestalt', 'gestalt'], ['gestalt', 'gestalt'], ['gestalt', 'gestalt']], [['topic', 'topic '], ['topic', 'topic'], ['topic', 'topic ']], [['recipient', 'recipient'], ['recipient', 'recipient'], ['recipient', 'recipient']], [['agent', 'ancillary'], ['agent', 'ancillary'], ['agent', 'ancillary']]]\n",
      "3036\n"
     ]
    }
   ],
   "source": [
    "import os, csv\n",
    "\n",
    "data = []\n",
    "observations = []\n",
    "sentences = []\n",
    "current_sentence = []\n",
    "length = 0\n",
    "\n",
    "for entry in os.scandir('.'):\n",
    "    if entry.path.endswith('.csv'):\n",
    "        \n",
    "        with open(entry, 'r') as fin:\n",
    "            reader = csv.reader(fin)\n",
    "            for i, row in enumerate(reader):\n",
    "                if i == 0: continue\n",
    "                \n",
    "                if row[0] == '':\n",
    "                    if current_sentence:\n",
    "                        sentences.append(current_sentence)\n",
    "                        length = 0\n",
    "                    current_sentence = []\n",
    "                else:\n",
    "                    if row[2]: data.append([row[0], row[2], row[3], len(sentences), length])\n",
    "                    length += len(row[0])\n",
    "                    current_sentence.append(row[0])\n",
    "                    \n",
    "                    if (row[1] and row[2]) or (row[5] and row[6]) or (row[10] and row[11]):\n",
    "                        if row[3] == '': row[3] = row[2]\n",
    "                        if row[7] == '': row[7] = row[6]\n",
    "                        if row[12] == '': row[12] = row[11]\n",
    "                        row = [x.lower() for x in row]\n",
    "                        observations.append([row[2:4], row[6:8], row[11:13]])\n",
    "\n",
    "        if current_sentence:\n",
    "            sentences.append(current_sentence)\n",
    "            \n",
    "print(observations[:10])\n",
    "print(len(observations))"
   ]
  },
  {
   "cell_type": "code",
   "execution_count": 39,
   "id": "lucky-matthew",
   "metadata": {},
   "outputs": [],
   "source": [
    "snacs = [\n",
    "    'Agent',\n",
    "    'Ancillary',\n",
    "    'Approximator',\n",
    "    'Beneficiary',\n",
    "    'Causer',\n",
    "    'Characteristic',\n",
    "    'Circumstance',\n",
    "    'ComparisonRef',\n",
    "    'Cost',\n",
    "    'Direction',\n",
    "    'Duration',\n",
    "    'EndTime',\n",
    "    'Ensemble',\n",
    "    'Experiencer',\n",
    "    'Explanation',\n",
    "    'Extent',\n",
    "    'Frequency',\n",
    "    'Gestalt',\n",
    "    'Goal',\n",
    "    'Identity',\n",
    "    'Instrument',\n",
    "    'Interval',\n",
    "    'Locus',\n",
    "    'Manner',\n",
    "    'Means',\n",
    "    'NONSNACS',\n",
    "    'Org',\n",
    "    'OrgMember',\n",
    "    'Originator',\n",
    "    'PartPortion',\n",
    "    'Path',\n",
    "    'Possession',\n",
    "    'Possessor',\n",
    "    'Purpose',\n",
    "    'QuantityItem',\n",
    "    'QuantityValue',\n",
    "    'RateUnit',\n",
    "    'Recipient',\n",
    "    'SocialRel',\n",
    "    'Source',\n",
    "    'Species',\n",
    "    'StartTime',\n",
    "    'Stimulus',\n",
    "    'Stuff',\n",
    "    'Temporal',\n",
    "    'Theme',\n",
    "    'Time',\n",
    "    'Topic',\n",
    "    'Whole',\n",
    "    '_',\n",
    "    '`$',\n",
    "    '`c',\n",
    "    '`d',\n",
    "    '`i',\n",
    "    '`j',\n",
    "    'Focus'\n",
    "]\n",
    "snacs = [x.lower() for x in snacs]"
   ]
  },
  {
   "cell_type": "code",
   "execution_count": 40,
   "id": "variable-prairie",
   "metadata": {},
   "outputs": [
    {
     "data": {
      "text/plain": [
       "['agent', 'ancillary', 'approximator']"
      ]
     },
     "execution_count": 40,
     "metadata": {},
     "output_type": "execute_result"
    }
   ],
   "source": [
    "snacs[:3]"
   ]
  },
  {
   "cell_type": "code",
   "execution_count": 41,
   "id": "dynamic-proportion",
   "metadata": {},
   "outputs": [
    {
     "name": "stdout",
     "output_type": "stream",
     "text": [
      "[['experiencer', 'experiencer', 'experiencer'], ['theme', 'theme', 'gestalt'], ['gestalt', 'gestalt', 'gestalt'], ['endtime', 'duration', 'duration'], ['possessor', 'possessor', 'possessor']]\n",
      "[['agent', 'agent', 'agent'], ['theme', 'theme', 'gestalt'], ['gestalt', 'gestalt', 'gestalt'], ['interval', 'endtime', 'duration'], ['locus', 'possessor', 'locus']]\n"
     ]
    }
   ],
   "source": [
    "scene = [[y[0] for y in x] for x in observations]\n",
    "print(scene[:5])\n",
    "function = [[y[1] for y in x] for x in observations]\n",
    "print(function[:5])"
   ]
  },
  {
   "cell_type": "markdown",
   "id": "modified-japanese",
   "metadata": {},
   "source": [
    "# Cohen's *κ*\n",
    "\n",
    "The following has the calculations for interannotator agreement (Cohen's *κ* metric)."
   ]
  },
  {
   "cell_type": "code",
   "execution_count": 73,
   "id": "removable-apollo",
   "metadata": {},
   "outputs": [
    {
     "name": "stdout",
     "output_type": "stream",
     "text": [
      "3036 3036\n",
      "Scene Kappa 0.6014073337036525\n",
      "Function Kappa 0.6539564674371567\n",
      "Adj == Aryaman, != Nitin 0.10507246376811594\n",
      "Adj == Nitin, != Aryaman 0.24044795783926218\n",
      "\n",
      "+ Ignoring Focus and NONSNACS/`d (introduced only by 2nd annotator, all blank for 1st):\n",
      "2571 2571\n",
      "Scene Kappa 0.712475345191219\n",
      "Function Kappa 0.775359140113864\n",
      "Adj == Aryaman, != Nitin 0.1073512252042007\n",
      "Adj == Nitin, != Aryaman 0.1306884480746791\n",
      "\n",
      "+ Only Adjudicated (adjudicated column == valid snacs label):\n",
      "2456 2473\n",
      "Scene Kappa 0.7456958064309412\n",
      "Function Kappa 0.8067077657563136\n",
      "Adj == Aryaman, != Nitin 0.10586319218241043\n",
      "Adj == Nitin, != Aryaman 0.10952768729641693\n"
     ]
    }
   ],
   "source": [
    "from sklearn.metrics import cohen_kappa_score\n",
    "\n",
    "scene = [['??' if y not in snacs else y for y in x] for x in scene]\n",
    "function = [['??' if y not in snacs else y for y in x] for x in function]\n",
    "\n",
    "print(len(scene), len(function))\n",
    "print('Scene Kappa', cohen_kappa_score([x[1] for x in scene], [x[2] for x in scene]))\n",
    "print('Function Kappa', cohen_kappa_score([x[1] for x in function], [x[2] for x in function]))\n",
    "print('Adj == Aryaman, != Nitin', len([1 for x in scene if x[0] == x[1] and x[0] != x[2]]) / len(scene))\n",
    "print('Adj == Nitin, != Aryaman', len([1 for x in scene if x[0] == x[2] and x[0] != x[1]]) / len(scene))\n",
    "\n",
    "print('\\n+ Ignoring Focus and NONSNACS/`d (introduced only by 2nd annotator, all blank for 1st):')\n",
    "scene2 = [x for x in scene if x[0] not in ('focus', 'nonsnacs', '`d')]\n",
    "function2 = [x for x in function if x[0] not in ('focus', 'nonsnacs', '`d')]\n",
    "print(len(scene2), len(function2))\n",
    "print('Scene Kappa', cohen_kappa_score([x[1] for x in scene2], [x[2] for x in scene2]))\n",
    "print('Function Kappa', cohen_kappa_score([x[1] for x in function2], [x[2] for x in function2]))\n",
    "print('Adj == Aryaman, != Nitin', len([1 for x in scene2 if x[0] == x[1] and x[0] != x[2]]) / len(scene2))\n",
    "print('Adj == Nitin, != Aryaman', len([1 for x in scene2 if x[0] == x[2] and x[0] != x[1]]) / len(scene2))\n",
    "\n",
    "print('\\n+ Only Adjudicated (adjudicated column == valid snacs label):')\n",
    "scene2 = [x for x in scene2 if x[0] != '??']\n",
    "function2 = [x for x in function2 if x[0] != '??']\n",
    "print(len(scene2), len(function2))\n",
    "print('Scene Kappa', cohen_kappa_score([x[1] for x in scene2], [x[2] for x in scene2]))\n",
    "print('Function Kappa', cohen_kappa_score([x[1] for x in function2], [x[2] for x in function2]))\n",
    "print('Adj == Aryaman, != Nitin', len([1 for x in scene2 if x[0] == x[1] and x[0] != x[2]]) / len(scene2))\n",
    "print('Adj == Nitin, != Aryaman', len([1 for x in scene2 if x[0] == x[2] and x[0] != x[1]]) / len(scene2))"
   ]
  },
  {
   "cell_type": "code",
   "execution_count": 53,
   "id": "spatial-plain",
   "metadata": {},
   "outputs": [
    {
     "data": {
      "text/plain": [
       "[['theme', 'theme', 'gestalt'],\n",
       " ['??', 'quantityitem', 'gestalt'],\n",
       " ['focus', '??', 'focus'],\n",
       " ['`d', '??', '`d'],\n",
       " ['`d', '??', '`d'],\n",
       " ['??', 'locus', 'whole'],\n",
       " ['gestalt', 'gestalt', 'org'],\n",
       " ['extent', '??', 'extent'],\n",
       " ['`d', '??', '`d'],\n",
       " ['`d', '??', '`d'],\n",
       " ['comparisonref', 'comparisonref', 'circumstance'],\n",
       " ['causer', 'explanation', 'causer'],\n",
       " ['focus', '??', 'focus'],\n",
       " ['topic', 'topic', 'gestalt'],\n",
       " ['comparisonref', 'time', 'comparisonref'],\n",
       " ['circumstance', 'manner', 'circumstance'],\n",
       " ['??', '??', '`d'],\n",
       " ['`d', '??', '`d'],\n",
       " ['focus', '??', 'focus'],\n",
       " ['focus', '??', 'focus']]"
      ]
     },
     "execution_count": 53,
     "metadata": {},
     "output_type": "execute_result"
    }
   ],
   "source": [
    "[x for x in scene if x[1] != x[2]][:20]"
   ]
  },
  {
   "cell_type": "code",
   "execution_count": 54,
   "id": "yellow-bleeding",
   "metadata": {},
   "outputs": [
    {
     "data": {
      "text/plain": [
       "[['theme', 'theme', 'gestalt'],\n",
       " ['gestalt', 'gestalt', 'org'],\n",
       " ['extent', '??', 'extent'],\n",
       " ['comparisonref', 'comparisonref', 'circumstance'],\n",
       " ['causer', 'explanation', 'causer'],\n",
       " ['topic', 'topic', 'gestalt'],\n",
       " ['comparisonref', 'time', 'comparisonref'],\n",
       " ['circumstance', 'manner', 'circumstance'],\n",
       " ['characteristic', 'characteristic', 'experiencer'],\n",
       " ['stimulus', 'stimulus', 'topic'],\n",
       " ['originator', '??', 'originator'],\n",
       " ['topic', 'topic', 'theme'],\n",
       " ['originator', 'recipient', 'originator'],\n",
       " ['extent', '??', 'extent'],\n",
       " ['manner', '??', 'manner'],\n",
       " ['experiencer', 'experiencer', 'agent'],\n",
       " ['agent', 'possessor', 'experiencer'],\n",
       " ['explanation', 'theme', 'causer'],\n",
       " ['theme', '??', 'theme'],\n",
       " ['theme', 'theme', 'purpose']]"
      ]
     },
     "execution_count": 54,
     "metadata": {},
     "output_type": "execute_result"
    }
   ],
   "source": [
    "[x for x in scene2 if x[1] != x[2]][:20]"
   ]
  },
  {
   "cell_type": "code",
   "execution_count": 67,
   "id": "entire-wright",
   "metadata": {},
   "outputs": [
    {
     "name": "stdout",
     "output_type": "stream",
     "text": [
      "0.7154150197628458\n",
      "0.8507905138339921\n"
     ]
    }
   ],
   "source": []
  },
  {
   "cell_type": "code",
   "execution_count": null,
   "id": "identical-illinois",
   "metadata": {},
   "outputs": [],
   "source": []
  }
 ],
 "metadata": {
  "kernelspec": {
   "display_name": "Python 3",
   "language": "python",
   "name": "python3"
  },
  "language_info": {
   "codemirror_mode": {
    "name": "ipython",
    "version": 3
   },
   "file_extension": ".py",
   "mimetype": "text/x-python",
   "name": "python",
   "nbconvert_exporter": "python",
   "pygments_lexer": "ipython3",
   "version": "3.8.8"
  }
 },
 "nbformat": 4,
 "nbformat_minor": 5
}
